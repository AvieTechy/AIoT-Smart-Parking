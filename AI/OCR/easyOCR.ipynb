{
 "cells": [
  {
   "cell_type": "markdown",
   "id": "0484e813",
   "metadata": {},
   "source": [
    "# License Plate Detection Accuracy Evaluation\n",
    "Đánh giá độ chính xác phát hiện biển số xe của mô hình EasyOCR"
   ]
  },
  {
   "cell_type": "code",
   "execution_count": null,
   "id": "d7531816",
   "metadata": {},
   "outputs": [],
   "source": [
    "!pip install easyocr opencv-python shapely"
   ]
  },
  {
   "cell_type": "code",
   "execution_count": 5,
   "id": "bcb820ea",
   "metadata": {},
   "outputs": [
    {
     "name": "stderr",
     "output_type": "stream",
     "text": [
      "Neither CUDA nor MPS are available - defaulting to CPU. Note: This module is much faster with a GPU.\n"
     ]
    },
    {
     "name": "stdout",
     "output_type": "stream",
     "text": [
      "✅ EasyOCR reader initialized\n"
     ]
    }
   ],
   "source": [
    "import easyocr\n",
    "import os\n",
    "import cv2\n",
    "import numpy as np\n",
    "import warnings\n",
    "from shapely.geometry import Polygon\n",
    "\n",
    "# Tắt warnings không cần thiết\n",
    "warnings.filterwarnings('ignore', category=UserWarning)\n",
    "\n",
    "# Khởi tạo EasyOCR reader\n",
    "reader = easyocr.Reader(['en'])\n",
    "print(\"✅ EasyOCR reader initialized\")"
   ]
  },
  {
   "cell_type": "code",
   "execution_count": 6,
   "id": "6bb8c77c",
   "metadata": {},
   "outputs": [
    {
     "name": "stdout",
     "output_type": "stream",
     "text": [
      "Dataset path: /workspaces/OCR/Vietnam-license-plate-1\n",
      "Test set: 101 images\n"
     ]
    }
   ],
   "source": [
    "# Dataset path\n",
    "dataset_path = \"/workspaces/OCR/Vietnam-license-plate-1\"\n",
    "print(f\"Dataset path: {dataset_path}\")\n",
    "\n",
    "# Kiểm tra số lượng ảnh test\n",
    "test_images_path = os.path.join(dataset_path, 'test', 'images')\n",
    "if os.path.exists(test_images_path):\n",
    "    num_test_images = len([f for f in os.listdir(test_images_path) if f.endswith(('.jpg', '.png', '.jpeg'))])\n",
    "    print(f\"Test set: {num_test_images} images\")\n",
    "else:\n",
    "    print(\"❌ Test folder không tồn tại!\")"
   ]
  },
  {
   "cell_type": "code",
   "execution_count": 7,
   "id": "7e720900",
   "metadata": {},
   "outputs": [
    {
     "name": "stdout",
     "output_type": "stream",
     "text": [
      "📊 Bắt đầu đánh giá độ chính xác...\n",
      "🔍 Đánh giá 101 ảnh...\n",
      "Đã xử lý 20/101 ảnh...\n",
      "Đã xử lý 20/101 ảnh...\n",
      "Đã xử lý 40/101 ảnh...\n",
      "Đã xử lý 40/101 ảnh...\n",
      "Đã xử lý 60/101 ảnh...\n",
      "Đã xử lý 60/101 ảnh...\n",
      "Đã xử lý 80/101 ảnh...\n",
      "Đã xử lý 80/101 ảnh...\n",
      "Đã xử lý 100/101 ảnh...\n",
      "Đã xử lý 100/101 ảnh...\n",
      "\n",
      "==================================================\n",
      "🎯 KẾT QUẢ ĐÁNH GIÁ\n",
      "==================================================\n",
      "📊 Tổng số ảnh test: 101\n",
      "✅ Phát hiện đúng biển số: 100\n",
      "❌ Không phát hiện được: 1\n",
      "🎯 Độ chính xác: 0.990 (99.0%)\n",
      "🔧 IoU threshold: 0.3\n",
      "==================================================\n",
      "\n",
      "==================================================\n",
      "🎯 KẾT QUẢ ĐÁNH GIÁ\n",
      "==================================================\n",
      "📊 Tổng số ảnh test: 101\n",
      "✅ Phát hiện đúng biển số: 100\n",
      "❌ Không phát hiện được: 1\n",
      "🎯 Độ chính xác: 0.990 (99.0%)\n",
      "🔧 IoU threshold: 0.3\n",
      "==================================================\n"
     ]
    }
   ],
   "source": [
    "def calculate_iou(box1, box2):\n",
    "    \"\"\"Calculate IoU between two bounding boxes\"\"\"\n",
    "    try:\n",
    "        poly1 = Polygon(box1)\n",
    "        poly2 = Polygon(box2)\n",
    "\n",
    "        if not poly1.is_valid or not poly2.is_valid:\n",
    "            return 0.0\n",
    "\n",
    "        intersection = poly1.intersection(poly2).area\n",
    "        union = poly1.union(poly2).area\n",
    "\n",
    "        return intersection / union if union > 0 else 0.0\n",
    "    except:\n",
    "        return 0.0\n",
    "\n",
    "def parse_yolo_label(label_path, img_width, img_height):\n",
    "    \"\"\"Parse YOLO OBB label file\"\"\"\n",
    "    objects = []\n",
    "\n",
    "    if not os.path.exists(label_path):\n",
    "        return objects\n",
    "\n",
    "    with open(label_path, 'r') as f:\n",
    "        lines = f.readlines()\n",
    "\n",
    "    for line in lines:\n",
    "        parts = line.strip().split()\n",
    "        if len(parts) >= 9:  # class + 8 coordinates\n",
    "            # Convert normalized coordinates to pixel coordinates\n",
    "            coords = []\n",
    "            for i in range(1, 9, 2):  # x1,y1,x2,y2,x3,y3,x4,y4\n",
    "                x = float(parts[i]) * img_width\n",
    "                y = float(parts[i+1]) * img_height\n",
    "                coords.append((x, y))\n",
    "            objects.append({'bbox': coords})\n",
    "\n",
    "    return objects\n",
    "\n",
    "def evaluate_detection_accuracy(reader, dataset_path, iou_threshold=0.3):\n",
    "    \"\"\"Evaluate license plate detection accuracy\"\"\"\n",
    "    image_folder = os.path.join(dataset_path, \"test\", \"images\")\n",
    "    label_folder = os.path.join(dataset_path, \"test\", \"labels\")\n",
    "\n",
    "    if not os.path.exists(image_folder) or not os.path.exists(label_folder):\n",
    "        print(\"❌ Test folders không tồn tại!\")\n",
    "        return None\n",
    "\n",
    "    total_images = 0\n",
    "    correct_detections = 0\n",
    "\n",
    "    image_files = [f for f in os.listdir(image_folder)\n",
    "                   if f.lower().endswith(('.jpg', '.png', '.jpeg'))]\n",
    "\n",
    "    print(f\"🔍 Đánh giá {len(image_files)} ảnh...\")\n",
    "\n",
    "    for idx, filename in enumerate(image_files):\n",
    "        img_path = os.path.join(image_folder, filename)\n",
    "        label_path = os.path.join(label_folder, filename.rsplit('.', 1)[0] + '.txt')\n",
    "\n",
    "        # Load image\n",
    "        image = cv2.imread(img_path)\n",
    "        if image is None:\n",
    "            continue\n",
    "\n",
    "        total_images += 1\n",
    "        img_height, img_width = image.shape[:2]\n",
    "\n",
    "        # Parse ground truth\n",
    "        gt_objects = parse_yolo_label(label_path, img_width, img_height)\n",
    "\n",
    "        # Run OCR\n",
    "        ocr_results = reader.readtext(image)\n",
    "\n",
    "        # Check if any OCR detection overlaps with ground truth\n",
    "        detected_correctly = False\n",
    "\n",
    "        for bbox, text, conf in ocr_results:\n",
    "            pred_bbox = [(float(point[0]), float(point[1])) for point in bbox]\n",
    "\n",
    "            for gt_obj in gt_objects:\n",
    "                iou = calculate_iou(pred_bbox, gt_obj['bbox'])\n",
    "                if iou >= iou_threshold:\n",
    "                    detected_correctly = True\n",
    "                    break\n",
    "\n",
    "            if detected_correctly:\n",
    "                break\n",
    "\n",
    "        if detected_correctly:\n",
    "            correct_detections += 1\n",
    "\n",
    "        # Progress indicator\n",
    "        if (idx + 1) % 20 == 0:\n",
    "            print(f\"Đã xử lý {idx + 1}/{len(image_files)} ảnh...\")\n",
    "\n",
    "    # Calculate accuracy\n",
    "    accuracy = correct_detections / total_images if total_images > 0 else 0\n",
    "\n",
    "    return {\n",
    "        'total_images': total_images,\n",
    "        'correct_detections': correct_detections,\n",
    "        'missed_detections': total_images - correct_detections,\n",
    "        'accuracy': accuracy,\n",
    "        'iou_threshold': iou_threshold\n",
    "    }\n",
    "\n",
    "# Run evaluation\n",
    "print(\"📊 Bắt đầu đánh giá độ chính xác...\")\n",
    "results = evaluate_detection_accuracy(reader, dataset_path, iou_threshold=0.3)\n",
    "\n",
    "if results:\n",
    "    print(\"\\n\" + \"=\"*50)\n",
    "    print(\"🎯 KẾT QUẢ ĐÁNH GIÁ\")\n",
    "    print(\"=\"*50)\n",
    "    print(f\"📊 Tổng số ảnh test: {results['total_images']}\")\n",
    "    print(f\"✅ Phát hiện đúng biển số: {results['correct_detections']}\")\n",
    "    print(f\"❌ Không phát hiện được: {results['missed_detections']}\")\n",
    "    print(f\"🎯 Độ chính xác: {results['accuracy']:.3f} ({results['accuracy']*100:.1f}%)\")\n",
    "    print(f\"🔧 IoU threshold: {results['iou_threshold']}\")\n",
    "    print(\"=\"*50)\n",
    "else:\n",
    "    print(\"❌ Đánh giá thất bại!\")"
   ]
  },
  {
   "cell_type": "code",
   "execution_count": null,
   "id": "db6cdb53",
   "metadata": {},
   "outputs": [],
   "source": []
  }
 ],
 "metadata": {
  "kernelspec": {
   "display_name": "Python 3",
   "language": "python",
   "name": "python3"
  },
  "language_info": {
   "codemirror_mode": {
    "name": "ipython",
    "version": 3
   },
   "file_extension": ".py",
   "mimetype": "text/x-python",
   "name": "python",
   "nbconvert_exporter": "python",
   "pygments_lexer": "ipython3",
   "version": "3.12.10"
  }
 },
 "nbformat": 4,
 "nbformat_minor": 5
}
