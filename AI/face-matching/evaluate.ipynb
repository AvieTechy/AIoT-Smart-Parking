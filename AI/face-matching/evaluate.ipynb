{
 "cells": [
  {
   "cell_type": "markdown",
   "id": "2dd698aa",
   "metadata": {},
   "source": [
    "# LFW Dataset Preparation for Face Matching\n",
    "\n",
    "Preparation of the LFW (Labeled Faces in the Wild) dataset for training and evaluating face matching models."
   ]
  },
  {
   "cell_type": "markdown",
   "id": "50e7abae",
   "metadata": {},
   "source": [
    "## Objectives\n",
    "\n",
    "1. Download LFW dataset using kagglehub\n",
    "2. Process matchpairsDevTest.csv file\n",
    "3. Normalize data and create labels\n",
    "4. Split dataset into 60% train, 10% val, 30% test\n",
    "5. Save as CSV files for use with PyTorch Dataset"
   ]
  },
  {
   "cell_type": "code",
   "execution_count": null,
   "id": "f2dd3ce9",
   "metadata": {},
   "outputs": [],
   "source": [
    "# Install required packages\n",
    "!pip install kagglehub pandas scikit-learn numpy"
   ]
  },
  {
   "cell_type": "code",
   "execution_count": 1,
   "id": "f31d43c8",
   "metadata": {},
   "outputs": [
    {
     "name": "stderr",
     "output_type": "stream",
     "text": [
      "/home/uyennhi/miniconda3/envs/facematching/lib/python3.12/site-packages/tqdm/auto.py:21: TqdmWarning: IProgress not found. Please update jupyter and ipywidgets. See https://ipywidgets.readthedocs.io/en/stable/user_install.html\n",
      "  from .autonotebook import tqdm as notebook_tqdm\n"
     ]
    },
    {
     "name": "stdout",
     "output_type": "stream",
     "text": [
      "Libraries imported successfully!\n"
     ]
    }
   ],
   "source": [
    "# Import libraries\n",
    "import kagglehub\n",
    "import pandas as pd\n",
    "import numpy as np\n",
    "import os\n",
    "from sklearn.model_selection import train_test_split\n",
    "\n",
    "print(\"Libraries imported successfully!\")"
   ]
  },
  {
   "cell_type": "code",
   "execution_count": 2,
   "id": "22fabd8c",
   "metadata": {},
   "outputs": [
    {
     "name": "stdout",
     "output_type": "stream",
     "text": [
      "Downloading LFW dataset from Kaggle...\n",
      "Dataset downloaded to: /home/uyennhi/.cache/kagglehub/datasets/jessicali9530/lfw-dataset/versions/4\n"
     ]
    }
   ],
   "source": [
    "# Download LFW dataset from Kaggle\n",
    "print(\"Downloading LFW dataset from Kaggle...\")\n",
    "path = kagglehub.dataset_download(\"jessicali9530/lfw-dataset\")\n",
    "print(f\"Dataset downloaded to: {path}\")"
   ]
  },
  {
   "cell_type": "code",
   "execution_count": 3,
   "id": "3bb878ce",
   "metadata": {},
   "outputs": [
    {
     "name": "stdout",
     "output_type": "stream",
     "text": [
      "Read CSV file with 500 rows\n",
      "Data after processing:\n",
      "               name  imagenum1  imagenum2  match  \\\n",
      "0      Abdullah_Gul         13         14      1   \n",
      "1      Abdullah_Gul         13         16      1   \n",
      "2  Abdullatif_Sener          1          2      1   \n",
      "3    Adel_Al-Jubeir          1          3      1   \n",
      "4         Al_Pacino          1          2      1   \n",
      "\n",
      "                                           image1  \\\n",
      "0          lfw/Abdullah_Gul/Abdullah_Gul_0013.jpg   \n",
      "1          lfw/Abdullah_Gul/Abdullah_Gul_0013.jpg   \n",
      "2  lfw/Abdullatif_Sener/Abdullatif_Sener_0001.jpg   \n",
      "3      lfw/Adel_Al-Jubeir/Adel_Al-Jubeir_0001.jpg   \n",
      "4                lfw/Al_Pacino/Al_Pacino_0001.jpg   \n",
      "\n",
      "                                           image2  \n",
      "0          lfw/Abdullah_Gul/Abdullah_Gul_0014.jpg  \n",
      "1          lfw/Abdullah_Gul/Abdullah_Gul_0016.jpg  \n",
      "2  lfw/Abdullatif_Sener/Abdullatif_Sener_0002.jpg  \n",
      "3      lfw/Adel_Al-Jubeir/Adel_Al-Jubeir_0003.jpg  \n",
      "4                lfw/Al_Pacino/Al_Pacino_0002.jpg  \n"
     ]
    }
   ],
   "source": [
    "# Read matchpairsDevTest.csv file\n",
    "csv_file = os.path.join(path, \"matchpairsDevTest.csv\")\n",
    "df = pd.read_csv(csv_file)\n",
    "print(f\"Read CSV file with {len(df)} rows\")\n",
    "\n",
    "# Add match column and create full image paths\n",
    "df['match'] = 1  # Same person pairs\n",
    "df['image1'] = df.apply(lambda row: f\"lfw/{row['name']}/{row['name']}_{row['imagenum1']:04d}.jpg\", axis=1)\n",
    "df['image2'] = df.apply(lambda row: f\"lfw/{row['name']}/{row['name']}_{row['imagenum2']:04d}.jpg\", axis=1)\n",
    "\n",
    "print(\"Data after processing:\")\n",
    "print(df.head())"
   ]
  },
  {
   "cell_type": "code",
   "execution_count": 4,
   "id": "bc70e08d",
   "metadata": {},
   "outputs": [
    {
     "name": "stdout",
     "output_type": "stream",
     "text": [
      "Processed 500 image pairs\n",
      "Normalized data sample:\n",
      "                                           image1  \\\n",
      "0          lfw/Abdullah_Gul/Abdullah_Gul_0013.jpg   \n",
      "1          lfw/Abdullah_Gul/Abdullah_Gul_0013.jpg   \n",
      "2  lfw/Abdullatif_Sener/Abdullatif_Sener_0001.jpg   \n",
      "3      lfw/Adel_Al-Jubeir/Adel_Al-Jubeir_0001.jpg   \n",
      "4                lfw/Al_Pacino/Al_Pacino_0001.jpg   \n",
      "\n",
      "                                           image2  label  \n",
      "0          lfw/Abdullah_Gul/Abdullah_Gul_0014.jpg      1  \n",
      "1          lfw/Abdullah_Gul/Abdullah_Gul_0016.jpg      1  \n",
      "2  lfw/Abdullatif_Sener/Abdullatif_Sener_0002.jpg      1  \n",
      "3      lfw/Adel_Al-Jubeir/Adel_Al-Jubeir_0003.jpg      1  \n",
      "4                lfw/Al_Pacino/Al_Pacino_0002.jpg      1  \n"
     ]
    }
   ],
   "source": [
    "# Normalize data and create labels\n",
    "processed_data = []\n",
    "\n",
    "for _, row in df.iterrows():\n",
    "    # Keep original paths and add label\n",
    "    processed_data.append({\n",
    "        'image1': row['image1'],\n",
    "        'image2': row['image2'],\n",
    "        'label': 1  # Same person (match=1)\n",
    "    })\n",
    "\n",
    "# Create DataFrame\n",
    "df_processed = pd.DataFrame(processed_data)\n",
    "\n",
    "print(f\"Processed {len(df_processed)} image pairs\")\n",
    "print(\"Normalized data sample:\")\n",
    "print(df_processed.head())"
   ]
  },
  {
   "cell_type": "code",
   "execution_count": 5,
   "id": "233dc09f",
   "metadata": {},
   "outputs": [
    {
     "name": "stdout",
     "output_type": "stream",
     "text": [
      "Adding negative pairs (different people)\n",
      "Read 1100 mismatch pairs\n",
      "Total: 1600 image pairs\n",
      "Label distribution: {0: 1100, 1: 500}\n"
     ]
    }
   ],
   "source": [
    "# Read mismatchpairsDevTrain.csv to create negative pairs (label = 0)\n",
    "print(\"Adding negative pairs (different people)\")\n",
    "\n",
    "mismatch_file = os.path.join(path, \"mismatchpairsDevTrain.csv\")\n",
    "mismatch_df = pd.read_csv(mismatch_file)\n",
    "print(f\"Read {len(mismatch_df)} mismatch pairs\")\n",
    "\n",
    "# Create negative pairs\n",
    "negative_data = []\n",
    "for _, row in mismatch_df.iterrows():\n",
    "    # Create paths for two different people's images\n",
    "    name1 = row['name']\n",
    "    name2 = row['name.1']\n",
    "    imagenum1 = row['imagenum1']\n",
    "    imagenum2 = row['imagenum2']\n",
    "\n",
    "    image1_path = f\"lfw/{name1}/{name1}_{imagenum1:04d}.jpg\"\n",
    "    image2_path = f\"lfw/{name2}/{name2}_{imagenum2:04d}.jpg\"\n",
    "\n",
    "    negative_data.append({\n",
    "        'image1': image1_path,\n",
    "        'image2': image2_path,\n",
    "        'label': 0  # Different people\n",
    "    })\n",
    "\n",
    "# Create DataFrame for negative pairs\n",
    "negative_df = pd.DataFrame(negative_data)\n",
    "\n",
    "# Combine positive and negative pairs\n",
    "all_pairs_df = pd.concat([df_processed, negative_df], ignore_index=True)\n",
    "all_pairs_df = all_pairs_df.sample(frac=1, random_state=42).reset_index(drop=True)\n",
    "\n",
    "print(f\"Total: {len(all_pairs_df)} image pairs\")\n",
    "print(f\"Label distribution: {all_pairs_df['label'].value_counts().to_dict()}\")\n",
    "\n",
    "# Update processed DataFrame\n",
    "df_processed = all_pairs_df"
   ]
  },
  {
   "cell_type": "code",
   "execution_count": 6,
   "id": "7fb986c4",
   "metadata": {},
   "outputs": [
    {
     "name": "stdout",
     "output_type": "stream",
     "text": [
      "Splitting dataset...\n",
      "Train set: 960 samples (60.0%)\n",
      "Validation set: 160 samples (10.0%)\n",
      "Test set: 480 samples (30.0%)\n"
     ]
    }
   ],
   "source": [
    "# Split dataset: 60% train, 10% val, 30% test\n",
    "print(\"Splitting dataset...\")\n",
    "\n",
    "# First split into train (60%) and temp (40%)\n",
    "X = df_processed[['image1', 'image2']]\n",
    "y = df_processed['label']\n",
    "\n",
    "X_train, X_temp, y_train, y_temp = train_test_split(\n",
    "    X, y, test_size=0.4, random_state=42, stratify=y\n",
    ")\n",
    "\n",
    "# Split temp into val (10%) and test (30%)\n",
    "X_val, X_test, y_val, y_test = train_test_split(\n",
    "    X_temp, y_temp, test_size=0.75, random_state=42, stratify=y_temp\n",
    ")\n",
    "\n",
    "# Create DataFrames for each set\n",
    "train_df = pd.concat([X_train, y_train], axis=1)\n",
    "val_df = pd.concat([X_val, y_val], axis=1)\n",
    "test_df = pd.concat([X_test, y_test], axis=1)\n",
    "\n",
    "print(f\"Train set: {len(train_df)} samples ({len(train_df)/len(df_processed)*100:.1f}%)\")\n",
    "print(f\"Validation set: {len(val_df)} samples ({len(val_df)/len(df_processed)*100:.1f}%)\")\n",
    "print(f\"Test set: {len(test_df)} samples ({len(test_df)/len(df_processed)*100:.1f}%)\")"
   ]
  },
  {
   "cell_type": "code",
   "execution_count": 7,
   "id": "65fe96b0",
   "metadata": {},
   "outputs": [
    {
     "name": "stdout",
     "output_type": "stream",
     "text": [
      "Saving CSV files...\n",
      "Files saved successfully:\n",
      "- lfw_face_matching_dataset/train.csv (960 samples)\n",
      "- lfw_face_matching_dataset/val.csv (160 samples)\n",
      "- lfw_face_matching_dataset/test.csv (480 samples)\n"
     ]
    }
   ],
   "source": [
    "# Save CSV files with format: image1,image2,label\n",
    "print(\"Saving CSV files...\")\n",
    "\n",
    "# Create output directory if it doesn't exist\n",
    "output_dir = \"lfw_face_matching_dataset\"\n",
    "os.makedirs(output_dir, exist_ok=True)\n",
    "\n",
    "# Save CSV files\n",
    "train_file = os.path.join(output_dir, \"train.csv\")\n",
    "val_file = os.path.join(output_dir, \"val.csv\")\n",
    "test_file = os.path.join(output_dir, \"test.csv\")\n",
    "\n",
    "train_df.to_csv(train_file, index=False)\n",
    "val_df.to_csv(val_file, index=False)\n",
    "test_df.to_csv(test_file, index=False)\n",
    "\n",
    "print(f\"Files saved successfully:\")\n",
    "print(f\"- {train_file} ({len(train_df)} samples)\")\n",
    "print(f\"- {val_file} ({len(val_df)} samples)\")\n",
    "print(f\"- {test_file} ({len(test_df)} samples)\")"
   ]
  },
  {
   "cell_type": "markdown",
   "id": "47549391",
   "metadata": {},
   "source": [
    "## Summary\n",
    "\n",
    "The LFW dataset has been prepared for face matching:\n",
    "\n",
    "1. Downloaded LFW dataset from Kaggle\n",
    "2. Created positive pairs (same person) and negative pairs (different people)\n",
    "3. Split into train/val/test sets with proper stratification\n",
    "4. Saved as CSV files in the `lfw_face_matching_dataset` directory\n",
    "\n",
    "Files are ready to use with PyTorch Dataset for training face matching models."
   ]
  },
  {
   "cell_type": "markdown",
   "id": "3ba7c2ab",
   "metadata": {},
   "source": [
    "# Evaluation with VGGFace2\n",
    "\n",
    "Evaluating the face matching performance using pre-trained VGGFace2 model."
   ]
  },
  {
   "cell_type": "code",
   "execution_count": 8,
   "id": "195e502f",
   "metadata": {},
   "outputs": [
    {
     "name": "stdout",
     "output_type": "stream",
     "text": [
      "Requirement already satisfied: facenet-pytorch in /home/uyennhi/miniconda3/envs/facematching/lib/python3.12/site-packages (2.6.0)\n",
      "Requirement already satisfied: scikit-learn in /home/uyennhi/miniconda3/envs/facematching/lib/python3.12/site-packages (1.7.0)\n",
      "Requirement already satisfied: matplotlib in /home/uyennhi/miniconda3/envs/facematching/lib/python3.12/site-packages (3.10.3)\n",
      "Requirement already satisfied: seaborn in /home/uyennhi/miniconda3/envs/facematching/lib/python3.12/site-packages (0.13.2)\n",
      "Requirement already satisfied: numpy<2.0.0,>=1.24.0 in /home/uyennhi/miniconda3/envs/facematching/lib/python3.12/site-packages (from facenet-pytorch) (1.26.4)\n",
      "Requirement already satisfied: Pillow<10.3.0,>=10.2.0 in /home/uyennhi/miniconda3/envs/facematching/lib/python3.12/site-packages (from facenet-pytorch) (10.2.0)\n",
      "Requirement already satisfied: requests<3.0.0,>=2.0.0 in /home/uyennhi/miniconda3/envs/facematching/lib/python3.12/site-packages (from facenet-pytorch) (2.32.4)\n",
      "Collecting torch<2.3.0,>=2.2.0 (from facenet-pytorch)\n",
      "  Using cached torch-2.2.2-cp312-cp312-manylinux1_x86_64.whl.metadata (25 kB)\n",
      "Collecting torchvision<0.18.0,>=0.17.0 (from facenet-pytorch)\n",
      "  Using cached torchvision-0.17.2-cp312-cp312-manylinux1_x86_64.whl.metadata (6.6 kB)\n",
      "Requirement already satisfied: tqdm<5.0.0,>=4.0.0 in /home/uyennhi/miniconda3/envs/facematching/lib/python3.12/site-packages (from facenet-pytorch) (4.67.1)\n",
      "Requirement already satisfied: charset_normalizer<4,>=2 in /home/uyennhi/miniconda3/envs/facematching/lib/python3.12/site-packages (from requests<3.0.0,>=2.0.0->facenet-pytorch) (3.4.2)\n",
      "Requirement already satisfied: idna<4,>=2.5 in /home/uyennhi/miniconda3/envs/facematching/lib/python3.12/site-packages (from requests<3.0.0,>=2.0.0->facenet-pytorch) (3.10)\n",
      "Requirement already satisfied: urllib3<3,>=1.21.1 in /home/uyennhi/miniconda3/envs/facematching/lib/python3.12/site-packages (from requests<3.0.0,>=2.0.0->facenet-pytorch) (2.5.0)\n",
      "Requirement already satisfied: certifi>=2017.4.17 in /home/uyennhi/miniconda3/envs/facematching/lib/python3.12/site-packages (from requests<3.0.0,>=2.0.0->facenet-pytorch) (2025.7.9)\n",
      "Requirement already satisfied: filelock in /home/uyennhi/miniconda3/envs/facematching/lib/python3.12/site-packages (from torch<2.3.0,>=2.2.0->facenet-pytorch) (3.18.0)\n",
      "Requirement already satisfied: typing-extensions>=4.8.0 in /home/uyennhi/miniconda3/envs/facematching/lib/python3.12/site-packages (from torch<2.3.0,>=2.2.0->facenet-pytorch) (4.14.1)\n",
      "Requirement already satisfied: sympy in /home/uyennhi/miniconda3/envs/facematching/lib/python3.12/site-packages (from torch<2.3.0,>=2.2.0->facenet-pytorch) (1.14.0)\n",
      "Requirement already satisfied: networkx in /home/uyennhi/miniconda3/envs/facematching/lib/python3.12/site-packages (from torch<2.3.0,>=2.2.0->facenet-pytorch) (3.5)\n",
      "Requirement already satisfied: jinja2 in /home/uyennhi/miniconda3/envs/facematching/lib/python3.12/site-packages (from torch<2.3.0,>=2.2.0->facenet-pytorch) (3.1.6)\n",
      "Requirement already satisfied: fsspec in /home/uyennhi/miniconda3/envs/facematching/lib/python3.12/site-packages (from torch<2.3.0,>=2.2.0->facenet-pytorch) (2025.5.1)\n",
      "Collecting nvidia-cuda-nvrtc-cu12==12.1.105 (from torch<2.3.0,>=2.2.0->facenet-pytorch)\n",
      "  Using cached nvidia_cuda_nvrtc_cu12-12.1.105-py3-none-manylinux1_x86_64.whl.metadata (1.5 kB)\n",
      "Collecting nvidia-cuda-runtime-cu12==12.1.105 (from torch<2.3.0,>=2.2.0->facenet-pytorch)\n",
      "  Using cached nvidia_cuda_runtime_cu12-12.1.105-py3-none-manylinux1_x86_64.whl.metadata (1.5 kB)\n",
      "Collecting nvidia-cuda-cupti-cu12==12.1.105 (from torch<2.3.0,>=2.2.0->facenet-pytorch)\n",
      "  Using cached nvidia_cuda_cupti_cu12-12.1.105-py3-none-manylinux1_x86_64.whl.metadata (1.6 kB)\n",
      "Collecting nvidia-cudnn-cu12==8.9.2.26 (from torch<2.3.0,>=2.2.0->facenet-pytorch)\n",
      "  Using cached nvidia_cudnn_cu12-8.9.2.26-py3-none-manylinux1_x86_64.whl.metadata (1.6 kB)\n",
      "Collecting nvidia-cublas-cu12==12.1.3.1 (from torch<2.3.0,>=2.2.0->facenet-pytorch)\n",
      "  Using cached nvidia_cublas_cu12-12.1.3.1-py3-none-manylinux1_x86_64.whl.metadata (1.5 kB)\n",
      "Collecting nvidia-cufft-cu12==11.0.2.54 (from torch<2.3.0,>=2.2.0->facenet-pytorch)\n",
      "  Using cached nvidia_cufft_cu12-11.0.2.54-py3-none-manylinux1_x86_64.whl.metadata (1.5 kB)\n",
      "Collecting nvidia-curand-cu12==10.3.2.106 (from torch<2.3.0,>=2.2.0->facenet-pytorch)\n",
      "  Using cached nvidia_curand_cu12-10.3.2.106-py3-none-manylinux1_x86_64.whl.metadata (1.5 kB)\n",
      "Collecting nvidia-cusolver-cu12==11.4.5.107 (from torch<2.3.0,>=2.2.0->facenet-pytorch)\n",
      "  Using cached nvidia_cusolver_cu12-11.4.5.107-py3-none-manylinux1_x86_64.whl.metadata (1.6 kB)\n",
      "Collecting nvidia-cusparse-cu12==12.1.0.106 (from torch<2.3.0,>=2.2.0->facenet-pytorch)\n",
      "  Using cached nvidia_cusparse_cu12-12.1.0.106-py3-none-manylinux1_x86_64.whl.metadata (1.6 kB)\n",
      "Collecting nvidia-nccl-cu12==2.19.3 (from torch<2.3.0,>=2.2.0->facenet-pytorch)\n",
      "  Using cached nvidia_nccl_cu12-2.19.3-py3-none-manylinux1_x86_64.whl.metadata (1.8 kB)\n",
      "Collecting nvidia-nvtx-cu12==12.1.105 (from torch<2.3.0,>=2.2.0->facenet-pytorch)\n",
      "  Using cached nvidia_nvtx_cu12-12.1.105-py3-none-manylinux1_x86_64.whl.metadata (1.7 kB)\n",
      "Requirement already satisfied: nvidia-nvjitlink-cu12 in /home/uyennhi/miniconda3/envs/facematching/lib/python3.12/site-packages (from nvidia-cusolver-cu12==11.4.5.107->torch<2.3.0,>=2.2.0->facenet-pytorch) (12.6.85)\n",
      "Requirement already satisfied: scipy>=1.8.0 in /home/uyennhi/miniconda3/envs/facematching/lib/python3.12/site-packages (from scikit-learn) (1.16.0)\n",
      "Requirement already satisfied: joblib>=1.2.0 in /home/uyennhi/miniconda3/envs/facematching/lib/python3.12/site-packages (from scikit-learn) (1.5.1)\n",
      "Requirement already satisfied: threadpoolctl>=3.1.0 in /home/uyennhi/miniconda3/envs/facematching/lib/python3.12/site-packages (from scikit-learn) (3.6.0)\n",
      "Requirement already satisfied: contourpy>=1.0.1 in /home/uyennhi/miniconda3/envs/facematching/lib/python3.12/site-packages (from matplotlib) (1.3.2)\n",
      "Requirement already satisfied: cycler>=0.10 in /home/uyennhi/miniconda3/envs/facematching/lib/python3.12/site-packages (from matplotlib) (0.12.1)\n",
      "Requirement already satisfied: fonttools>=4.22.0 in /home/uyennhi/miniconda3/envs/facematching/lib/python3.12/site-packages (from matplotlib) (4.58.5)\n",
      "Requirement already satisfied: kiwisolver>=1.3.1 in /home/uyennhi/miniconda3/envs/facematching/lib/python3.12/site-packages (from matplotlib) (1.4.8)\n",
      "Requirement already satisfied: packaging>=20.0 in /home/uyennhi/miniconda3/envs/facematching/lib/python3.12/site-packages (from matplotlib) (25.0)\n",
      "Requirement already satisfied: pyparsing>=2.3.1 in /home/uyennhi/miniconda3/envs/facematching/lib/python3.12/site-packages (from matplotlib) (3.2.3)\n",
      "Requirement already satisfied: python-dateutil>=2.7 in /home/uyennhi/miniconda3/envs/facematching/lib/python3.12/site-packages (from matplotlib) (2.9.0.post0)\n",
      "Requirement already satisfied: pandas>=1.2 in /home/uyennhi/miniconda3/envs/facematching/lib/python3.12/site-packages (from seaborn) (2.3.1)\n",
      "Requirement already satisfied: pytz>=2020.1 in /home/uyennhi/miniconda3/envs/facematching/lib/python3.12/site-packages (from pandas>=1.2->seaborn) (2025.2)\n",
      "Requirement already satisfied: tzdata>=2022.7 in /home/uyennhi/miniconda3/envs/facematching/lib/python3.12/site-packages (from pandas>=1.2->seaborn) (2025.2)\n",
      "Requirement already satisfied: six>=1.5 in /home/uyennhi/miniconda3/envs/facematching/lib/python3.12/site-packages (from python-dateutil>=2.7->matplotlib) (1.17.0)\n",
      "Requirement already satisfied: MarkupSafe>=2.0 in /home/uyennhi/miniconda3/envs/facematching/lib/python3.12/site-packages (from jinja2->torch<2.3.0,>=2.2.0->facenet-pytorch) (3.0.2)\n",
      "Requirement already satisfied: mpmath<1.4,>=1.1.0 in /home/uyennhi/miniconda3/envs/facematching/lib/python3.12/site-packages (from sympy->torch<2.3.0,>=2.2.0->facenet-pytorch) (1.3.0)\n",
      "Using cached torch-2.2.2-cp312-cp312-manylinux1_x86_64.whl (755.5 MB)\n",
      "Using cached nvidia_cublas_cu12-12.1.3.1-py3-none-manylinux1_x86_64.whl (410.6 MB)\n",
      "Using cached nvidia_cuda_cupti_cu12-12.1.105-py3-none-manylinux1_x86_64.whl (14.1 MB)\n",
      "Using cached nvidia_cuda_nvrtc_cu12-12.1.105-py3-none-manylinux1_x86_64.whl (23.7 MB)\n",
      "Using cached nvidia_cuda_runtime_cu12-12.1.105-py3-none-manylinux1_x86_64.whl (823 kB)\n",
      "Using cached nvidia_cudnn_cu12-8.9.2.26-py3-none-manylinux1_x86_64.whl (731.7 MB)\n",
      "Using cached nvidia_cufft_cu12-11.0.2.54-py3-none-manylinux1_x86_64.whl (121.6 MB)\n",
      "Using cached nvidia_curand_cu12-10.3.2.106-py3-none-manylinux1_x86_64.whl (56.5 MB)\n",
      "Using cached nvidia_cusolver_cu12-11.4.5.107-py3-none-manylinux1_x86_64.whl (124.2 MB)\n",
      "Using cached nvidia_cusparse_cu12-12.1.0.106-py3-none-manylinux1_x86_64.whl (196.0 MB)\n",
      "Using cached nvidia_nccl_cu12-2.19.3-py3-none-manylinux1_x86_64.whl (166.0 MB)\n",
      "Using cached nvidia_nvtx_cu12-12.1.105-py3-none-manylinux1_x86_64.whl (99 kB)\n",
      "Using cached torchvision-0.17.2-cp312-cp312-manylinux1_x86_64.whl (6.9 MB)\n",
      "Installing collected packages: nvidia-nvtx-cu12, nvidia-nccl-cu12, nvidia-cusparse-cu12, nvidia-curand-cu12, nvidia-cufft-cu12, nvidia-cuda-runtime-cu12, nvidia-cuda-nvrtc-cu12, nvidia-cuda-cupti-cu12, nvidia-cublas-cu12, nvidia-cusolver-cu12, nvidia-cudnn-cu12, torch, torchvision\n",
      "\u001b[2K  Attempting uninstall: nvidia-nvtx-cu12\n",
      "\u001b[2K    Found existing installation: nvidia-nvtx-cu12 12.6.77\n",
      "\u001b[2K    Uninstalling nvidia-nvtx-cu12-12.6.77:\n",
      "\u001b[2K      Successfully uninstalled nvidia-nvtx-cu12-12.6.77\n",
      "\u001b[2K  Attempting uninstall: nvidia-nccl-cu12\n",
      "\u001b[2K    Found existing installation: nvidia-nccl-cu12 2.26.2\n",
      "\u001b[2K    Uninstalling nvidia-nccl-cu12-2.26.2:\n",
      "\u001b[2K      Successfully uninstalled nvidia-nccl-cu12-2.26.2\n",
      "\u001b[2K  Attempting uninstall: nvidia-cusparse-cu12━━━━━━━━━━━━━━━━━━━━━━\u001b[0m \u001b[32m 1/13\u001b[0m [nvidia-nccl-cu12]\n",
      "\u001b[2K    Found existing installation: nvidia-cusparse-cu12 12.5.4.2\u001b[0m \u001b[32m 1/13\u001b[0m [nvidia-nccl-cu12]\n",
      "\u001b[2K    Uninstalling nvidia-cusparse-cu12-12.5.4.2:━━━━━━━━━━━━━━━\u001b[0m \u001b[32m 1/13\u001b[0m [nvidia-nccl-cu12]\n",
      "\u001b[2K      Successfully uninstalled nvidia-cusparse-cu12-12.5.4.2━━\u001b[0m \u001b[32m 1/13\u001b[0m [nvidia-nccl-cu12]\n",
      "\u001b[2K  Attempting uninstall: nvidia-curand-cu12━━━━━━━━━━━━━━━━━━━━━━━━\u001b[0m \u001b[32m 2/13\u001b[0m [nvidia-cusparse-cu12]\n",
      "\u001b[2K    Found existing installation: nvidia-curand-cu12 10.3.7.77━\u001b[0m \u001b[32m 2/13\u001b[0m [nvidia-cusparse-cu12]\n",
      "\u001b[2K    Uninstalling nvidia-curand-cu12-10.3.7.77:━━━━━━━━━━━━━━━━\u001b[0m \u001b[32m 2/13\u001b[0m [nvidia-cusparse-cu12]\n",
      "\u001b[2K      Successfully uninstalled nvidia-curand-cu12-10.3.7.77━━━\u001b[0m \u001b[32m 2/13\u001b[0m [nvidia-cusparse-cu12]\n",
      "\u001b[2K  Attempting uninstall: nvidia-cufft-cu12━━━━━━━━━━━━━━━━━━━━━━━━━\u001b[0m \u001b[32m 3/13\u001b[0m [nvidia-curand-cu12]\n",
      "\u001b[2K    Found existing installation: nvidia-cufft-cu12 11.3.0.4━━━\u001b[0m \u001b[32m 3/13\u001b[0m [nvidia-curand-cu12]\n",
      "\u001b[2K    Uninstalling nvidia-cufft-cu12-11.3.0.4:━━━━━━━━━━━━━━━━━━\u001b[0m \u001b[32m 3/13\u001b[0m [nvidia-curand-cu12]\n",
      "\u001b[2K      Successfully uninstalled nvidia-cufft-cu12-11.3.0.4━━━━━\u001b[0m \u001b[32m 3/13\u001b[0m [nvidia-curand-cu12]\n",
      "\u001b[2K  Attempting uninstall: nvidia-cuda-runtime-cu12━━━━━━━━━━━━━━━━━━\u001b[0m \u001b[32m 4/13\u001b[0m [nvidia-cufft-cu12]\n",
      "\u001b[2K    Found existing installation: nvidia-cuda-runtime-cu12 12.6.77m \u001b[32m 4/13\u001b[0m [nvidia-cufft-cu12]\n",
      "\u001b[2K    Uninstalling nvidia-cuda-runtime-cu12-12.6.77:━━━━━━━━━━━━\u001b[0m \u001b[32m 4/13\u001b[0m [nvidia-cufft-cu12]\n",
      "\u001b[2K      Successfully uninstalled nvidia-cuda-runtime-cu12-12.6.77[0m \u001b[32m 4/13\u001b[0m [nvidia-cufft-cu12]\n",
      "\u001b[2K  Attempting uninstall: nvidia-cuda-nvrtc-cu12━━━━━━━━━━━━━━━━\u001b[0m \u001b[32m 4/13\u001b[0m [nvidia-cufft-cu12]\n",
      "\u001b[2K    Found existing installation: nvidia-cuda-nvrtc-cu12 12.6.77[0m \u001b[32m 4/13\u001b[0m [nvidia-cufft-cu12]\n",
      "\u001b[2K    Uninstalling nvidia-cuda-nvrtc-cu12-12.6.77:━━━━━━━━━━━━━━\u001b[0m \u001b[32m 4/13\u001b[0m [nvidia-cufft-cu12]\n",
      "\u001b[2K      Successfully uninstalled nvidia-cuda-nvrtc-cu12-12.6.77━\u001b[0m \u001b[32m 4/13\u001b[0m [nvidia-cufft-cu12]\n",
      "\u001b[2K  Attempting uninstall: nvidia-cuda-cupti-cu12━━━━━━━━━━━━━━━━━━━━\u001b[0m \u001b[32m 6/13\u001b[0m [nvidia-cuda-nvrtc-cu12]\n",
      "\u001b[2K    Found existing installation: nvidia-cuda-cupti-cu12 12.6.80[0m \u001b[32m 6/13\u001b[0m [nvidia-cuda-nvrtc-cu12]\n",
      "\u001b[2K    Uninstalling nvidia-cuda-cupti-cu12-12.6.80:━━━━━━━━━━━━━━\u001b[0m \u001b[32m 6/13\u001b[0m [nvidia-cuda-nvrtc-cu12]\n",
      "\u001b[2K      Successfully uninstalled nvidia-cuda-cupti-cu12-12.6.80━\u001b[0m \u001b[32m 6/13\u001b[0m [nvidia-cuda-nvrtc-cu12]\n",
      "\u001b[2K  Attempting uninstall: nvidia-cublas-cu12m\u001b[90m━━━━━━━━━━━━━━━━━━\u001b[0m \u001b[32m 7/13\u001b[0m [nvidia-cuda-cupti-cu12]\n",
      "\u001b[2K    Found existing installation: nvidia-cublas-cu12 12.6.4.1━━\u001b[0m \u001b[32m 7/13\u001b[0m [nvidia-cuda-cupti-cu12]\n",
      "\u001b[2K    Uninstalling nvidia-cublas-cu12-12.6.4.1:━━━━━━━━━━━━━━━━━\u001b[0m \u001b[32m 7/13\u001b[0m [nvidia-cuda-cupti-cu12]\n",
      "\u001b[2K      Successfully uninstalled nvidia-cublas-cu12-12.6.4.1━━━━\u001b[0m \u001b[32m 7/13\u001b[0m [nvidia-cuda-cupti-cu12]\n",
      "\u001b[2K  Attempting uninstall: nvidia-cusolver-cu120m\u001b[90m━━━━━━━━━━━━━━━\u001b[0m \u001b[32m 8/13\u001b[0m [nvidia-cublas-cu12]\n",
      "\u001b[2K    Found existing installation: nvidia-cusolver-cu12 11.7.1.2\u001b[0m \u001b[32m 8/13\u001b[0m [nvidia-cublas-cu12]\n",
      "\u001b[2K    Uninstalling nvidia-cusolver-cu12-11.7.1.2:━━━━━━━━━━━━━━━\u001b[0m \u001b[32m 8/13\u001b[0m [nvidia-cublas-cu12]\n",
      "\u001b[2K      Successfully uninstalled nvidia-cusolver-cu12-11.7.1.2━━\u001b[0m \u001b[32m 8/13\u001b[0m [nvidia-cublas-cu12]\n",
      "\u001b[2K  Attempting uninstall: nvidia-cudnn-cu1291m╸\u001b[0m\u001b[90m━━━━━━━━━━━━\u001b[0m \u001b[32m 9/13\u001b[0m [nvidia-cusolver-cu12]\n",
      "\u001b[2K    Found existing installation: nvidia-cudnn-cu12 9.5.1.17━━━\u001b[0m \u001b[32m 9/13\u001b[0m [nvidia-cusolver-cu12]\n",
      "\u001b[2K    Uninstalling nvidia-cudnn-cu12-9.5.1.17:91m╸\u001b[0m\u001b[90m━━━━━━━━━\u001b[0m \u001b[32m10/13\u001b[0m [nvidia-cudnn-cu12]\n",
      "\u001b[2K      Successfully uninstalled nvidia-cudnn-cu12-9.5.1.17━━━━━\u001b[0m \u001b[32m10/13\u001b[0m [nvidia-cudnn-cu12]\n",
      "\u001b[2K  Attempting uninstall: torch━━━━━━━━━\u001b[0m\u001b[91m╸\u001b[0m\u001b[90m━━━━━━━━━\u001b[0m \u001b[32m10/13\u001b[0m [nvidia-cudnn-cu12]\n",
      "\u001b[2K    Found existing installation: torch 2.7.1\u001b[0m\u001b[90m━━━━━━━━━\u001b[0m \u001b[32m10/13\u001b[0m [nvidia-cudnn-cu12]\n",
      "\u001b[2K    Uninstalling torch-2.7.1:━━━━━━━━━━━━\u001b[0m\u001b[91m╸\u001b[0m\u001b[90m━━━━━━\u001b[0m \u001b[32m11/13\u001b[0m [torch]nn-cu12]\n",
      "\u001b[2K      Successfully uninstalled torch-2.7.1[0m\u001b[91m╸\u001b[0m\u001b[90m━━━━━━\u001b[0m \u001b[32m11/13\u001b[0m [torch]\n",
      "\u001b[2K  Attempting uninstall: torchvision━━━━━━\u001b[0m\u001b[91m╸\u001b[0m\u001b[90m━━━━━━\u001b[0m \u001b[32m11/13\u001b[0m [torch]\n",
      "\u001b[2K    Found existing installation: torchvision 0.22.1\u001b[90m━━━━━━\u001b[0m \u001b[32m11/13\u001b[0m [torch]\n",
      "\u001b[2K    Uninstalling torchvision-0.22.1:━\u001b[0m\u001b[91m╸\u001b[0m\u001b[90m━━━━━━\u001b[0m \u001b[32m11/13\u001b[0m [torch]\n",
      "\u001b[2K      Successfully uninstalled torchvision-0.22.10m\u001b[90m━━━━━━\u001b[0m \u001b[32m11/13\u001b[0m [torch]\n",
      "\u001b[2K   \u001b[90m━━━━━━━━━━━━━━━━━━━━━━━━━━━━━━━━━━━━━━━━\u001b[0m \u001b[32m13/13\u001b[0m [torchvision]\u001b[0m [torchvision]\n",
      "\u001b[1A\u001b[2KSuccessfully installed nvidia-cublas-cu12-12.1.3.1 nvidia-cuda-cupti-cu12-12.1.105 nvidia-cuda-nvrtc-cu12-12.1.105 nvidia-cuda-runtime-cu12-12.1.105 nvidia-cudnn-cu12-8.9.2.26 nvidia-cufft-cu12-11.0.2.54 nvidia-curand-cu12-10.3.2.106 nvidia-cusolver-cu12-11.4.5.107 nvidia-cusparse-cu12-12.1.0.106 nvidia-nccl-cu12-2.19.3 nvidia-nvtx-cu12-12.1.105 torch-2.2.2 torchvision-0.17.2\n",
      "Using device: cpu\n",
      "VGGFace2 model loaded successfully\n"
     ]
    }
   ],
   "source": [
    "# Install and import libraries for evaluation\n",
    "!pip install facenet-pytorch scikit-learn matplotlib seaborn\n",
    "\n",
    "import torch\n",
    "from torch.utils.data import Dataset, DataLoader\n",
    "from facenet_pytorch import InceptionResnetV1\n",
    "from PIL import Image\n",
    "import numpy as np\n",
    "from sklearn.metrics import accuracy_score, precision_score, recall_score, f1_score, confusion_matrix\n",
    "from sklearn.metrics import classification_report, roc_curve, auc\n",
    "import matplotlib.pyplot as plt\n",
    "import seaborn as sns\n",
    "import warnings\n",
    "warnings.filterwarnings('ignore')\n",
    "\n",
    "# Check for GPU\n",
    "device = torch.device('cuda' if torch.cuda.is_available() else 'cpu')\n",
    "print(f\"Using device: {device}\")\n",
    "\n",
    "# Load VGGFace2 pre-trained model\n",
    "model = InceptionResnetV1(pretrained='vggface2').eval().to(device)\n",
    "print(\"VGGFace2 model loaded successfully\")"
   ]
  },
  {
   "cell_type": "code",
   "execution_count": 9,
   "id": "988217f0",
   "metadata": {},
   "outputs": [],
   "source": [
    "# Create Dataset class for face matching\n",
    "class FaceMatchingDataset(Dataset):\n",
    "    def __init__(self, csv_file, dataset_path, transform=None):\n",
    "        self.data = pd.read_csv(csv_file)\n",
    "        self.dataset_path = dataset_path\n",
    "        self.transform = transform\n",
    "\n",
    "    def __len__(self):\n",
    "        return len(self.data)\n",
    "\n",
    "    def __getitem__(self, idx):\n",
    "        row = self.data.iloc[idx]\n",
    "\n",
    "        # Full paths to images - replace 'lfw/' with 'lfw-deepfunneled/'\n",
    "        img1_relative = row['image1'].replace('lfw/', 'lfw-deepfunneled/')\n",
    "        img2_relative = row['image2'].replace('lfw/', 'lfw-deepfunneled/')\n",
    "\n",
    "        img1_path = os.path.join(self.dataset_path, img1_relative)\n",
    "        img2_path = os.path.join(self.dataset_path, img2_relative)\n",
    "\n",
    "        # Load images\n",
    "        image1 = Image.open(img1_path).convert('RGB')\n",
    "        image2 = Image.open(img2_path).convert('RGB')\n",
    "\n",
    "        # Transform\n",
    "        if self.transform:\n",
    "            image1 = self.transform(image1)\n",
    "            image2 = self.transform(image2)\n",
    "\n",
    "        label = int(row['label'])\n",
    "\n",
    "        return {\n",
    "            'image1': image1,\n",
    "            'image2': image2,\n",
    "            'label': label,\n",
    "            'img1_path': row['image1'],\n",
    "            'img2_path': row['image2']\n",
    "        }\n",
    "\n",
    "# Define transform function\n",
    "def transform_image(image):\n",
    "    # Resize to 160x160\n",
    "    image = image.resize((160, 160))\n",
    "\n",
    "    # Convert to numpy array and normalize\n",
    "    img_array = np.array(image, dtype=np.float32) / 255.0\n",
    "\n",
    "    # Convert to tensor with correct dimensions\n",
    "    img_tensor = torch.from_numpy(img_array).permute(2, 0, 1)\n",
    "\n",
    "    # Normalize to [-1, 1] for VGGFace2\n",
    "    img_tensor = (img_tensor - 0.5) / 0.5\n",
    "\n",
    "    return img_tensor\n",
    "\n",
    "# Define dataset path\n",
    "dataset_path = \"/home/uyennhi/.cache/kagglehub/datasets/jessicali9530/lfw-dataset/versions/4/lfw-deepfunneled\""
   ]
  },
  {
   "cell_type": "code",
   "execution_count": 10,
   "id": "13c50571",
   "metadata": {},
   "outputs": [
    {
     "name": "stdout",
     "output_type": "stream",
     "text": [
      "Loading test dataset from: lfw_face_matching_dataset/test.csv\n",
      "Test dataset: 480 samples\n",
      "Test DataLoader: 15 batches (batch_size=32)\n"
     ]
    }
   ],
   "source": [
    "# Load test dataset\n",
    "test_csv = \"lfw_face_matching_dataset/test.csv\"\n",
    "print(f\"Loading test dataset from: {test_csv}\")\n",
    "\n",
    "test_dataset = FaceMatchingDataset(\n",
    "    csv_file=test_csv,\n",
    "    dataset_path=dataset_path,\n",
    "    transform=transform_image\n",
    ")\n",
    "\n",
    "# Create DataLoader\n",
    "batch_size = 32\n",
    "test_loader = DataLoader(\n",
    "    test_dataset,\n",
    "    batch_size=batch_size,\n",
    "    shuffle=False,\n",
    "    num_workers=2 if device.type == 'cuda' else 0\n",
    ")\n",
    "\n",
    "print(f\"Test dataset: {len(test_dataset)} samples\")\n",
    "print(f\"Test DataLoader: {len(test_loader)} batches (batch_size={batch_size})\")"
   ]
  },
  {
   "cell_type": "code",
   "execution_count": 11,
   "id": "c033e369",
   "metadata": {},
   "outputs": [
    {
     "name": "stdout",
     "output_type": "stream",
     "text": [
      "Starting evaluation on test set\n",
      "Processing 15 batches...\n",
      "Processing batch 1/15...\n",
      "Processing batch 11/15...\n",
      "Processed 480 test samples\n",
      "Similarity range: [-0.3440, 0.9490]\n"
     ]
    }
   ],
   "source": [
    "# Evaluate model on test set\n",
    "print(\"Starting evaluation on test set\")\n",
    "\n",
    "model.eval()\n",
    "similarity_scores = []\n",
    "true_labels = []\n",
    "\n",
    "print(f\"Processing {len(test_loader)} batches...\")\n",
    "\n",
    "with torch.no_grad():\n",
    "    for batch_idx, batch in enumerate(test_loader):\n",
    "        if batch_idx % 10 == 0:\n",
    "            print(f\"Processing batch {batch_idx+1}/{len(test_loader)}...\")\n",
    "\n",
    "        images1 = batch['image1'].to(device)\n",
    "        images2 = batch['image2'].to(device)\n",
    "        labels = batch['label']\n",
    "\n",
    "        # Extract embeddings\n",
    "        embeddings1 = model(images1)\n",
    "        embeddings2 = model(images2)\n",
    "\n",
    "        # Calculate similarity for each pair in batch\n",
    "        for i in range(len(embeddings1)):\n",
    "            emb1 = embeddings1[i].cpu().numpy()\n",
    "            emb2 = embeddings2[i].cpu().numpy()\n",
    "\n",
    "            # Calculate cosine similarity\n",
    "            similarity = np.dot(emb1, emb2) / (np.linalg.norm(emb1) * np.linalg.norm(emb2))\n",
    "\n",
    "            similarity_scores.append(similarity)\n",
    "            true_labels.append(labels[i].item())\n",
    "\n",
    "print(f\"Processed {len(similarity_scores)} test samples\")\n",
    "print(f\"Similarity range: [{min(similarity_scores):.4f}, {max(similarity_scores):.4f}]\")"
   ]
  },
  {
   "cell_type": "code",
   "execution_count": 12,
   "id": "80eacdbf",
   "metadata": {},
   "outputs": [
    {
     "name": "stdout",
     "output_type": "stream",
     "text": [
      "Finding optimal threshold\n",
      "Best threshold: 0.390\n",
      "Metrics with optimal threshold:\n",
      "Accuracy:  0.9792 (97.92%)\n",
      "Precision: 0.9605 (96.05%)\n",
      "Recall:    0.9733 (97.33%)\n",
      "F1-score:  0.9669 (96.69%)\n"
     ]
    }
   ],
   "source": [
    "# Find optimal threshold based on F1-score\n",
    "print(\"Finding optimal threshold\")\n",
    "\n",
    "thresholds = np.arange(0.0, 1.0, 0.01)\n",
    "best_f1 = 0\n",
    "best_threshold = 0\n",
    "\n",
    "for threshold in thresholds:\n",
    "    predictions = [1 if score >= threshold else 0 for score in similarity_scores]\n",
    "    f1 = f1_score(true_labels, predictions, zero_division=0)\n",
    "\n",
    "    if f1 > best_f1:\n",
    "        best_f1 = f1\n",
    "        best_threshold = threshold\n",
    "\n",
    "# Calculate metrics with optimal threshold\n",
    "final_predictions = [1 if score >= best_threshold else 0 for score in similarity_scores]\n",
    "\n",
    "accuracy = accuracy_score(true_labels, final_predictions)\n",
    "precision = precision_score(true_labels, final_predictions)\n",
    "recall = recall_score(true_labels, final_predictions)\n",
    "f1 = f1_score(true_labels, final_predictions)\n",
    "\n",
    "print(f\"Best threshold: {best_threshold:.3f}\")\n",
    "print(f\"Metrics with optimal threshold:\")\n",
    "print(f\"Accuracy:  {accuracy:.4f} ({accuracy*100:.2f}%)\")\n",
    "print(f\"Precision: {precision:.4f} ({precision*100:.2f}%)\")\n",
    "print(f\"Recall:    {recall:.4f} ({recall*100:.2f}%)\")\n",
    "print(f\"F1-score:  {f1:.4f} ({f1*100:.2f}%)\")"
   ]
  },
  {
   "cell_type": "code",
   "execution_count": 13,
   "id": "c30414e0",
   "metadata": {},
   "outputs": [
    {
     "data": {
      "image/png": "[encoded data removed]",
      "text/plain": [
       "<Figure size 1500x600 with 3 Axes>"
      ]
     },
     "metadata": {},
     "output_type": "display_data"
    },
    {
     "name": "stdout",
     "output_type": "stream",
     "text": [
      "Classification Report:\n",
      "                  precision    recall  f1-score   support\n",
      "\n",
      "Different Person       0.99      0.98      0.98       330\n",
      "     Same Person       0.96      0.97      0.97       150\n",
      "\n",
      "        accuracy                           0.98       480\n",
      "       macro avg       0.97      0.98      0.98       480\n",
      "    weighted avg       0.98      0.98      0.98       480\n",
      "\n"
     ]
    }
   ],
   "source": [
    "# Plot Confusion Matrix and ROC Curve\n",
    "\n",
    "# Confusion Matrix\n",
    "cm = confusion_matrix(true_labels, final_predictions)\n",
    "\n",
    "fig, axes = plt.subplots(1, 2, figsize=(15, 6))\n",
    "\n",
    "# Plot Confusion Matrix\n",
    "sns.heatmap(cm, annot=True, fmt='d', cmap='Blues', ax=axes[0],\n",
    "            xticklabels=['Different Person', 'Same Person'],\n",
    "            yticklabels=['Different Person', 'Same Person'])\n",
    "axes[0].set_title(f'Confusion Matrix (Threshold = {best_threshold:.3f})')\n",
    "axes[0].set_xlabel('Predicted')\n",
    "axes[0].set_ylabel('Actual')\n",
    "\n",
    "# ROC Curve\n",
    "fpr, tpr, _ = roc_curve(true_labels, similarity_scores)\n",
    "roc_auc = auc(fpr, tpr)\n",
    "\n",
    "axes[1].plot(fpr, tpr, color='darkorange', lw=2, label=f'ROC curve (AUC = {roc_auc:.4f})')\n",
    "axes[1].plot([0, 1], [0, 1], color='navy', lw=2, linestyle='--', label='Random')\n",
    "axes[1].set_xlim([0.0, 1.0])\n",
    "axes[1].set_ylim([0.0, 1.05])\n",
    "axes[1].set_xlabel('False Positive Rate')\n",
    "axes[1].set_ylabel('True Positive Rate')\n",
    "axes[1].set_title('ROC Curve')\n",
    "axes[1].legend(loc=\"lower right\")\n",
    "axes[1].grid(True)\n",
    "\n",
    "plt.tight_layout()\n",
    "plt.show()\n",
    "\n",
    "# Classification Report\n",
    "print(\"Classification Report:\")\n",
    "print(classification_report(true_labels, final_predictions,\n",
    "                          target_names=['Different Person', 'Same Person']))"
   ]
  },
  {
   "cell_type": "code",
   "execution_count": 14,
   "id": "72027195",
   "metadata": {},
   "outputs": [
    {
     "name": "stdout",
     "output_type": "stream",
     "text": [
      "Evaluation Results Summary\n",
      "Dataset Test:\n",
      "- Total samples: 480\n",
      "- Same person pairs: 150 (31.2%)\n",
      "- Different person pairs: 330 (68.8%)\n",
      "\n",
      "Model: VGGFace2 (InceptionResnetV1)\n",
      "- Optimal threshold: 0.3900\n",
      "\n",
      "Performance Metrics:\n",
      "- Accuracy:  0.9792 (97.92%)\n",
      "- Precision: 0.9605 (96.05%)\n",
      "- Recall:    0.9733 (97.33%)\n",
      "- F1-score:  0.9669 (96.69%)\n",
      "- AUC:       0.9972 (99.72%)\n"
     ]
    }
   ],
   "source": [
    "# Results summary\n",
    "print(\"Evaluation Results Summary\")\n",
    "\n",
    "print(f\"Dataset Test:\")\n",
    "print(f\"- Total samples: {len(true_labels)}\")\n",
    "print(f\"- Same person pairs: {sum(true_labels)} ({sum(true_labels)/len(true_labels)*100:.1f}%)\")\n",
    "print(f\"- Different person pairs: {len(true_labels)-sum(true_labels)} ({(len(true_labels)-sum(true_labels))/len(true_labels)*100:.1f}%)\")\n",
    "\n",
    "print(f\"\\nModel: VGGFace2 (InceptionResnetV1)\")\n",
    "print(f\"- Optimal threshold: {best_threshold:.4f}\")\n",
    "\n",
    "print(f\"\\nPerformance Metrics:\")\n",
    "print(f\"- Accuracy:  {accuracy:.4f} ({accuracy*100:.2f}%)\")\n",
    "print(f\"- Precision: {precision:.4f} ({precision*100:.2f}%)\")\n",
    "print(f\"- Recall:    {recall:.4f} ({recall*100:.2f}%)\")\n",
    "print(f\"- F1-score:  {f1:.4f} ({f1*100:.2f}%)\")\n",
    "print(f\"- AUC:       {roc_auc:.4f} ({roc_auc*100:.2f}%)\")"
   ]
  },
  {
   "cell_type": "code",
   "execution_count": null,
   "id": "2de8ea88",
   "metadata": {},
   "outputs": [],
   "source": []
  }
 ],
 "metadata": {
  "kernelspec": {
   "display_name": "facematching",
   "language": "python",
   "name": "python3"
  },
  "language_info": {
   "codemirror_mode": {
    "name": "ipython",
    "version": 3
   },
   "file_extension": ".py",
   "mimetype": "text/x-python",
   "name": "python",
   "nbconvert_exporter": "python",
   "pygments_lexer": "ipython3",
   "version": "3.12.11"
  }
 },
 "nbformat": 4,
 "nbformat_minor": 5
}
